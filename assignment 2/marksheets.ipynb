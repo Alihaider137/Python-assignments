{
 "cells": [
  {
   "cell_type": "code",
   "execution_count": 12,
   "metadata": {},
   "outputs": [
    {
     "name": "stdout",
     "output_type": "stream",
     "text": [
      "Enter Physics marks:\t98\n",
      "Enter Chemistery marks:\t88\n",
      "Enter English marks:\t78\n",
      "Enter Urdu marks:\t88\n",
      "Enter Mathematics marks:\t99\n",
      "Enter Pakistan Studies marks:\t45\n",
      "A+\n"
     ]
    }
   ],
   "source": [
    "phymarks = int(input(\"Enter Physics marks:\\t\"))\n",
    "chemmarks = int(input(\"Enter Chemistery marks:\\t\"))\n",
    "engmarks = int(input(\"Enter English marks:\\t\"))\n",
    "urdumarks = int(input(\"Enter Urdu marks:\\t\"))\n",
    "mathmarks = int(input(\"Enter Mathematics marks:\\t\"))\n",
    "pakstdmarks = int(input(\"Enter Pakistan Studies marks:\\t\"))\n",
    "perc = (phymarks+chemmarks+engmarks+urdumarks+mathmarks+pakstdmarks)/550*100\n",
    "if perc >=80 and perc <=100 :\n",
    "    print(\"A+\")\n",
    "elif perc >=70 and perc <80 :\n",
    "    print(\"A\")\n",
    "elif perc >=60 and perc <70 :\n",
    "    print(\"B\")    \n",
    "elif perc >=50 and perc <60 :\n",
    "    print(\"C\")    \n",
    "elif perc >=40 and perc <50 :\n",
    "    print(\"D\")\n",
    "elif perc >=33 and perc <40 :\n",
    "    print(\"E\")\n",
    "elif perc >=0 and perc <33 :\n",
    "    print(\"Fail\")\n",
    "else:\n",
    "    print(\"You have given inappropiate %\")\n",
    "\n",
    "\n",
    "\n",
    "\n",
    "\n",
    "\n",
    "\n",
    "\n",
    "\n",
    "\n"
   ]
  },
  {
   "cell_type": "code",
   "execution_count": null,
   "metadata": {},
   "outputs": [],
   "source": []
  }
 ],
 "metadata": {
  "kernelspec": {
   "display_name": "Python 3",
   "language": "python",
   "name": "python3"
  },
  "language_info": {
   "codemirror_mode": {
    "name": "ipython",
    "version": 3
   },
   "file_extension": ".py",
   "mimetype": "text/x-python",
   "name": "python",
   "nbconvert_exporter": "python",
   "pygments_lexer": "ipython3",
   "version": "3.7.3"
  }
 },
 "nbformat": 4,
 "nbformat_minor": 2
}
