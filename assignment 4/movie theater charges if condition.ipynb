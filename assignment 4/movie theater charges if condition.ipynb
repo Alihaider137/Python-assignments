{
 "cells": [
  {
   "cell_type": "code",
   "execution_count": 6,
   "metadata": {},
   "outputs": [
    {
     "name": "stdout",
     "output_type": "stream",
     "text": [
      "Enter your age7\n",
      "Ticket is 10$\n"
     ]
    }
   ],
   "source": [
    " age = int(input(\"Enter your age\"))\n",
    "\n",
    "if age <= 3:\n",
    "    print(\"Ticket is free\")\n",
    "elif  age > 3 or age < 12 :\n",
    "        print (\"Ticket is 10$\")\n",
    "elif age >= 12:\n",
    "        print(\"Ticket is 15$\")\n",
    "else:\n",
    "    print(\"Enter correct age\")"
   ]
  },
  {
   "cell_type": "code",
   "execution_count": null,
   "metadata": {},
   "outputs": [],
   "source": []
  }
 ],
 "metadata": {
  "kernelspec": {
   "display_name": "Python 3",
   "language": "python",
   "name": "python3"
  },
  "language_info": {
   "codemirror_mode": {
    "name": "ipython",
    "version": 3
   },
   "file_extension": ".py",
   "mimetype": "text/x-python",
   "name": "python",
   "nbconvert_exporter": "python",
   "pygments_lexer": "ipython3",
   "version": "3.7.3"
  }
 },
 "nbformat": 4,
 "nbformat_minor": 2
}
