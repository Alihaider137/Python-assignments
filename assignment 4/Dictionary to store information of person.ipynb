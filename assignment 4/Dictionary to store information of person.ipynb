{
 "cells": [
  {
   "cell_type": "code",
   "execution_count": 6,
   "metadata": {},
   "outputs": [
    {
     "name": "stdout",
     "output_type": "stream",
     "text": [
      "{'first_name': 'Ali', 'last_name': 'Haider', 'age': 20, 'city': 'Karachi', 'qualification': 'intermediate'}\n"
     ]
    }
   ],
   "source": [
    "person = {\n",
    "          \"first_name\":\"Ali\",\n",
    "          \"last_name\":\"Haider\",\n",
    "          \"age\":20,\n",
    "          \"city\":\"Karachi\"\n",
    "         } \n",
    "person[\"qualification\"]=\"intermediate\"\n",
    "del person[\"qualification\"]\n",
    "print(person)"
   ]
  },
  {
   "cell_type": "code",
   "execution_count": null,
   "metadata": {},
   "outputs": [],
   "source": []
  }
 ],
 "metadata": {
  "kernelspec": {
   "display_name": "Python 3",
   "language": "python",
   "name": "python3"
  },
  "language_info": {
   "codemirror_mode": {
    "name": "ipython",
    "version": 3
   },
   "file_extension": ".py",
   "mimetype": "text/x-python",
   "name": "python",
   "nbconvert_exporter": "python",
   "pygments_lexer": "ipython3",
   "version": "3.7.3"
  }
 },
 "nbformat": 4,
 "nbformat_minor": 2
}
