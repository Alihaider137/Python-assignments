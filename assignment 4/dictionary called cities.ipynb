{
 "cells": [
  {
   "cell_type": "code",
   "execution_count": 1,
   "metadata": {},
   "outputs": [
    {
     "name": "stdout",
     "output_type": "stream",
     "text": [
      "{'Karachi': {'country': 'Pakistan', 'population': '197 million', 'fact': '6th largest city of the world'}, 'Chennai': {'country': 'India', 'population': '1.339 billion', 'fact': 'It has the second longest beach in the world'}, 'Colombo': {'country': 'Sri Lanka', 'population': '21.44 milion', 'fact': 'Cricket is most popular sport in Sri Lanka'}}\n"
     ]
    }
   ],
   "source": [
    "cities={\n",
    "       \"Karachi\":{\n",
    "                  \"country\":\"Pakistan\", \n",
    "                  \"population\":\"197 million\",\n",
    "                  \"fact\":\"6th largest city of the world\"\n",
    "                 },\n",
    "       \"Chennai\":{\n",
    "                  \"country\":\"India\", \n",
    "                  \"population\":\"1.339 billion\",\n",
    "                  \"fact\":\"It has the second longest beach in the world\"\n",
    "                 },\n",
    "       \"Colombo\":{\n",
    "                  \"country\":\"Sri Lanka\", \n",
    "                  \"population\":\"21.44 milion\",\n",
    "                  \"fact\":\"Cricket is most popular sport in Sri Lanka\"\n",
    "                 }\n",
    "    \n",
    "     }\n",
    "print(cities)"
   ]
  },
  {
   "cell_type": "code",
   "execution_count": null,
   "metadata": {},
   "outputs": [],
   "source": []
  }
 ],
 "metadata": {
  "kernelspec": {
   "display_name": "Python 3",
   "language": "python",
   "name": "python3"
  },
  "language_info": {
   "codemirror_mode": {
    "name": "ipython",
    "version": 3
   },
   "file_extension": ".py",
   "mimetype": "text/x-python",
   "name": "python",
   "nbconvert_exporter": "python",
   "pygments_lexer": "ipython3",
   "version": "3.7.3"
  }
 },
 "nbformat": 4,
 "nbformat_minor": 2
}
