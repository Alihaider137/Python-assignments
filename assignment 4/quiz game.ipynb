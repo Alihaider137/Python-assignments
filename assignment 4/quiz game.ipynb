{
 "cells": [
  {
   "cell_type": "code",
   "execution_count": 2,
   "metadata": {},
   "outputs": [
    {
     "name": "stdout",
     "output_type": "stream",
     "text": [
      "1: What is your name\n",
      "please write correct answer\n",
      "ali\n",
      "haider\n",
      "khan\n",
      "bajwa\n",
      "ali\n",
      "Your score is:1\n",
      "Your percentage is :33.333333333333336\n",
      "2: What is father your name\n",
      "please write correct answer\n",
      "ali\n",
      "mazhar\n",
      "khan\n",
      "bajwa\n",
      "khan\n",
      "3: What is your sur name\n",
      "please write correct answer\n",
      "ali\n",
      "haider\n",
      "khan\n",
      "bajwa\n",
      "bajwa\n",
      "Your score is:2\n",
      "Your percentage is :66.66666666666667\n"
     ]
    }
   ],
   "source": [
    "questions = [\n",
    "       {\n",
    "        \"s.no\":1,\n",
    "        \"question\":\"What is your name\",\n",
    "        \"option\":[\"ali\",\"haider\",\"khan\",\"bajwa\"],\n",
    "        \"answer\":\"ali\"\n",
    "       },\n",
    "       {\n",
    "        \"s.no\":2,\n",
    "        \"question\":\"What is father your name\",\n",
    "        \"option\":[\"ali\",\"mazhar\",\"khan\",\"bajwa\"],\n",
    "        \"answer\":\"mazhar\"\n",
    "       },\n",
    "       {\n",
    "        \"s.no\":3,\n",
    "        \"question\":\"What is your sur name\",\n",
    "        \"option\":[\"ali\",\"haider\",\"khan\",\"bajwa\"],\n",
    "        \"answer\":\"bajwa\"\n",
    "       }\n",
    "]\n",
    "score = 0\n",
    "for question in questions:\n",
    "    data = str(question[\"s.no\"])+ \": \"+ question[\"question\"] +\"\\nplease write correct answer\\n\"+ question[\"option\"][0]+\"\\n\"+question[\"option\"][1]+\"\\n\"+question[\"option\"][2]+\"\\n\"+question[\"option\"][3]+\"\\n\"\n",
    "    result =input(data)\n",
    "    if result==question[\"answer\"]:\n",
    "        score += 1\n",
    "        print(\"Your score is:\" + str(score))\n",
    "        per = score*100/3\n",
    "        print(\"Your percentage is :\" + str(per))"
   ]
  },
  {
   "cell_type": "code",
   "execution_count": null,
   "metadata": {},
   "outputs": [],
   "source": []
  }
 ],
 "metadata": {
  "kernelspec": {
   "display_name": "Python 3",
   "language": "python",
   "name": "python3"
  },
  "language_info": {
   "codemirror_mode": {
    "name": "ipython",
    "version": 3
   },
   "file_extension": ".py",
   "mimetype": "text/x-python",
   "name": "python",
   "nbconvert_exporter": "python",
   "pygments_lexer": "ipython3",
   "version": "3.7.3"
  }
 },
 "nbformat": 4,
 "nbformat_minor": 2
}
