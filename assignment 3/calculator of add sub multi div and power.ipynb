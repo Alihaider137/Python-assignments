{
 "cells": [
  {
   "cell_type": "code",
   "execution_count": 1,
   "metadata": {},
   "outputs": [
    {
     "name": "stdout",
     "output_type": "stream",
     "text": [
      "Enter first value5\n",
      "Enter operator**\n",
      "Enter second value2\n",
      "25 Answer\n"
     ]
    }
   ],
   "source": [
    "val1 = int(input(\"Enter first value\"))\n",
    "operator = input(\"Enter operator\")\n",
    "val2 = int(input(\"Enter second value\"))\n",
    "\n",
    "if operator == \"+\":\n",
    "    val = val1+val2\n",
    "    print(val,\"Answer\")\n",
    "elif  operator == \"-\":\n",
    "    val = val1-val2\n",
    "    print(val,\"Answer\")   \n",
    "elif  operator == \"*\":\n",
    "    val = val1*val2\n",
    "    print(val,\"Answer\")\n",
    "elif  operator == \"/\":\n",
    "    val = val1/val2\n",
    "    print(val,\"Answer\") \n",
    "elif  operator == \"**\":\n",
    "    val = val1**val2\n",
    "    print(val,\"Answer\")         \n",
    "else:\n",
    "    print(\"Enter correct operator\")"
   ]
  },
  {
   "cell_type": "code",
   "execution_count": null,
   "metadata": {},
   "outputs": [],
   "source": []
  }
 ],
 "metadata": {
  "kernelspec": {
   "display_name": "Python 3",
   "language": "python",
   "name": "python3"
  },
  "language_info": {
   "codemirror_mode": {
    "name": "ipython",
    "version": 3
   },
   "file_extension": ".py",
   "mimetype": "text/x-python",
   "name": "python",
   "nbconvert_exporter": "python",
   "pygments_lexer": "ipython3",
   "version": "3.7.3"
  }
 },
 "nbformat": 4,
 "nbformat_minor": 2
}
